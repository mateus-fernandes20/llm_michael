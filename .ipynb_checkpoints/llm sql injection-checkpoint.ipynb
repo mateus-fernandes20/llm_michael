{
 "cells": [
  {
   "cell_type": "code",
   "execution_count": 1,
   "id": "eb8b9a71-a98e-46e1-b954-a7fd708a1418",
   "metadata": {},
   "outputs": [],
   "source": [
    "from langchain_community.llms import Ollama\n",
    "llm = Ollama(model=\"llama2\")"
   ]
  },
  {
   "cell_type": "code",
   "execution_count": 2,
   "id": "bd0f7a61-3a01-420d-9e14-ad2adf279c56",
   "metadata": {},
   "outputs": [],
   "source": [
    "from langchain_core.prompts import ChatPromptTemplate\n",
    "prompt = ChatPromptTemplate.from_messages([\n",
    "    (\"system\", \"You are an expert data science.\"),\n",
    "    (\"user\", \"{input}\")\n",
    "])\n",
    "\n",
    "chain = prompt | llm "
   ]
  },
  {
   "cell_type": "code",
   "execution_count": 3,
   "id": "51f1f333-9994-4a22-9ea5-9c5bb0087472",
   "metadata": {},
   "outputs": [],
   "source": [
    "from langchain_core.output_parsers import StrOutputParser\n",
    "\n",
    "output_parser = StrOutputParser()"
   ]
  },
  {
   "cell_type": "code",
   "execution_count": 4,
   "id": "7a3e16ae-ac36-4ff9-b81a-5393bfab5ccd",
   "metadata": {},
   "outputs": [],
   "source": [
    "chain = prompt | llm | output_parser"
   ]
  },
  {
   "cell_type": "code",
   "execution_count": 5,
   "id": "f3d9e244-a674-45da-9af1-e29a3a11c44b",
   "metadata": {},
   "outputs": [
    {
     "data": {
      "text/plain": [
       "'\\nAs an expert in data science, I can define data as:\\n\\nData refers to any form of information that is collected, stored, and processed for analysis or insights. It can be in the form of numbers, text, images, audio, or even videos. Data can come from various sources, such as sensors, databases, APIs, or even social media platforms. The primary goal of data science is to extract insights and knowledge from these data sources using various techniques, tools, and algorithms.\\n\\nData can be structured or unstructured, depending on its form and organization. Structured data is organized in a specific format, such as tables or spreadsheets, while unstructured data does not have a predefined format and requires manual analysis to extract insights. Examples of structured data include customer transaction records, financial reports, and inventory levels, while examples of unstructured data include emails, social media posts, and audio recordings.\\n\\nData science involves various activities, such as data wrangling (cleaning, transforming, and preparing the data for analysis), data visualization (presenting the data in a meaningful way to facilitate understanding), and predictive modeling (using statistical models or machine learning algorithms to make predictions or identify patterns).\\n\\nIn summary, data is any form of information that can be collected, stored, and analyzed to extract insights and knowledge. Data science is the field that deals with the collection, analysis, and interpretation of data to gain a better understanding of the underlying phenomena.'"
      ]
     },
     "execution_count": 5,
     "metadata": {},
     "output_type": "execute_result"
    }
   ],
   "source": [
    "chain.invoke({\"input\": \"define data\"})"
   ]
  },
  {
   "cell_type": "code",
   "execution_count": 6,
   "id": "2aa562fa-51de-422c-92d3-83fa53ed408a",
   "metadata": {},
   "outputs": [],
   "source": [
    "from langchain_community.embeddings import OllamaEmbeddings\n",
    "import pandas as pd\n",
    "from langchain_community.document_loaders.csv_loader import CSVLoader\n",
    "\n",
    "loader = CSVLoader(file_path='example.csv',\n",
    "    csv_args={\n",
    "    'delimiter': ',',\n",
    "    'quotechar': '\"',\n",
    "    'fieldnames': ['Sentence', 'Label']\n",
    "})\n",
    "\n",
    "\n",
    "data = loader.load()\n",
    "#data = pd.read_csv(\"data.csv\")\n",
    "#print(data[10].page_content[:])\n",
    "\n",
    "embeddings = OllamaEmbeddings()"
   ]
  },
  {
   "cell_type": "code",
   "execution_count": 7,
   "id": "1ab26439-662e-4622-9895-e2218bc01f6b",
   "metadata": {},
   "outputs": [],
   "source": [
    "from langchain_community.vectorstores import FAISS\n",
    "from langchain_text_splitters import RecursiveCharacterTextSplitter\n",
    "\n",
    "\n",
    "text_splitter = RecursiveCharacterTextSplitter()\n",
    "documents = text_splitter.split_documents(data)\n",
    "vector = FAISS.from_documents(documents, embeddings)"
   ]
  },
  {
   "cell_type": "code",
   "execution_count": 8,
   "id": "40c23ed7-0ed0-464f-b739-2c0766ed3ddb",
   "metadata": {},
   "outputs": [],
   "source": [
    "#geração de regex genericas com agrupamento de queries\n",
    "\n",
    "from langchain.chains import create_retrieval_chain\n",
    "\n",
    "from langchain.chains.combine_documents import create_stuff_documents_chain\n",
    "\n",
    "prompt = ChatPromptTemplate.from_template(\"\"\"Answer the following question based only on the provided context:\n",
    "\n",
    "<context>\n",
    "{context}\n",
    "</context>\n",
    "\n",
    "Question: {input}\"\"\")\n",
    "\n",
    "document_chain = create_stuff_documents_chain(llm, prompt)\n",
    "\n",
    "retriever = vector.as_retriever()\n",
    "retrieval_chain = create_retrieval_chain(retriever, document_chain)"
   ]
  },
  {
   "cell_type": "code",
   "execution_count": 9,
   "id": "0c86dd3d-94ce-41de-bc9d-a61ca7ecf5c3",
   "metadata": {},
   "outputs": [
    {
     "name": "stdout",
     "output_type": "stream",
     "text": [
      "\n",
      "Given the context you provided, I can generate a regex pattern that matches the most common SQL queries present in the database. Here's one possible approach:\n",
      "\n",
      "1. Identify the most common keywords and phrases used in SQL queries:\n",
      "\t* SELECT\n",
      "\t* FROM\n",
      "\t* WHERE\n",
      "\t* JOIN\n",
      "\t* GROUP BY\n",
      "\t* HAVING\n",
      "\t* ORDER BY\n",
      "\t* LIMIT\n",
      "2. Create a regex pattern that matches any string containing at least one of these keywords or phrases:\n",
      "```regex\n",
      "^(?:SELECT|FROM|WHERE|JOIN|GROUP BY|HAVING|ORDER BY|LIMIT)\\b\n",
      "```\n",
      "Explanation:\n",
      "\n",
      "* `^` matches the beginning of a line.\n",
      "* `(?:` is a non-capturing group that allows us to match any of the following keywords without capturing their text.\n",
      "\t+ `SELECT` matches the string \"SELECT\".\n",
      "\t+ `FROM` matches the string \"FROM\".\n",
      "\t+ `WHERE` matches the string \"WHERE\".\n",
      "\t+ `JOIN` matches the string \"JOIN\".\n",
      "\t+ `GROUP BY` matches the string \"GROUP BY\".\n",
      "\t+ `HAVING` matches the string \"HAVING\".\n",
      "\t+ `ORDER BY` matches the string \"ORDER BY\".\n",
      "\t+ `LIMIT` matches the string \"LIMIT\".\n",
      "* `\\b` matches a word boundary, ensuring that we only match full words and not part of other words.\n",
      "3. Test the regex pattern with some sample queries from the database:\n",
      "```bash\n",
      "$ echo 'SELECT * FROM users WHERE age > 18' | grep -E '^(?:SELECT|FROM|WHERE)\\b'\n",
      "$ echo 'JOIN users ON age = 18 GROUP BY gender' | grep -E '^(?:JOIN|GROUP)\\b'\n",
      "$ echo 'ORDER BY age DESC LIMIT 10' | grep -E '^(?:ORDER|LIMIT)\\b'\n",
      "```\n",
      "Explanation:\n",
      "\n",
      "* `echo 'SELECT * FROM users WHERE age > 18' | grep -E '^(?:SELECT|FROM|WHERE)\\b'` matches the query \"SELECT * FROM users WHERE age > 18\".\n",
      "* `echo 'JOIN users ON age = 18 GROUP BY gender' | grep -E '^(?:JOIN|GROUP)\\b'` matches the query \"JOIN users ON age = 18 GROUP BY gender\".\n",
      "* `echo 'ORDER BY age DESC LIMIT 10' | grep -E '^(?:ORDER|LIMIT)\\b'` matches the query \"ORDER BY age DESC LIMIT 10\".\n",
      "\n",
      "Note that this is just a basic regex pattern and may not match all possible SQL queries. The regex pattern can be further refined based on the specific requirements of the database.\n"
     ]
    }
   ],
   "source": [
    "from langchain_core.documents import Document\n",
    "\n",
    "print(document_chain.invoke({\n",
    "    \"input\": \"generate a generic regex that matches the most common queries present on this database\",\n",
    "    \"context\": [Document(page_content=\"This is a database where the \"\"Sentence\"\" column represents SQL queries and \"\"Label\"\" column represents if the SQL query is valid\")]\n",
    "}))"
   ]
  },
  {
   "cell_type": "code",
   "execution_count": 10,
   "id": "71ad4729-27f4-4df4-a92f-3824e425e6bd",
   "metadata": {},
   "outputs": [
    {
     "name": "stdout",
     "output_type": "stream",
     "text": [
      "Based on the provided context, we can see that there are four sentences in the database:\n",
      "\n",
      "1. `x' and members.email is NULL` - This sentence does not provide any meaningful information about the contents of the database, as it simply checks whether a specific condition is true or false.\n",
      "2. `||utl_http.request  ( 'httP://192.168.1.1/')` - This sentence appears to be an HTTP request to the URL `https://192.168.1.1/` .\n",
      "3. `select * from users where id = 1` - This sentence selects all columns (`*`) from the `users` table where the `id` column is equal to 1.\n",
      "4. `1; ( load_file ( char (47101116994711297115115119100) ) ) 111;` - This sentence appears to be a SQL statement that loads a file into the database, but the context does not provide enough information to determine what the file contains.\n",
      "\n",
      "Based on these four sentences, we cannot determine the content of the database with certainty. The first sentence simply checks a condition, while the second and third sentences retrieve data from the database. The fourth sentence appears to load a file into the database, but we do not know what the file contains. Without additional context or information, it is impossible to provide a more specific answer.\n"
     ]
    }
   ],
   "source": [
    "response = retrieval_chain.invoke({\"input\": \"what is the content of this database?\"})\n",
    "print(response[\"answer\"])"
   ]
  },
  {
   "cell_type": "code",
   "execution_count": 11,
   "id": "f71dfa52-c181-49c1-bb05-2eb476e99c77",
   "metadata": {},
   "outputs": [
    {
     "name": "stdout",
     "output_type": "stream",
     "text": [
      "To generate generic regular expressions that match both Boolean and numeric values in the provided context, we can use a combination of pattern matching and quantifiers. Here are two possible solutions:\n",
      "\n",
      "1. Using `(?:)` non-capturing group:\n",
      "```\n",
      "Question: What are some generic regexes that match boolean and numeric values in the document?\n",
      "\n",
      "Answer: Sure! Here are two possibilities:\n",
      "\n",
      "Regex 1: `(?:^|[\\s\\S])(?:true|false|1|0)` - This regex matches either a capitalized \"true\" or \"false\", or a number that is either 1 or 0.\n",
      "\n",
      "Regex 2: `(?:^|[\\s\\S])(?:\\d+|\\D)` - This regex matches either a digit (that is not followed by a whitespace character) or the empty string (\"\"). This covers both numeric and Boolean values.\n",
      "```\n",
      "Explanation:\n",
      "\n",
      "* `(?:^|[\\s\\S])` uses a non-capturing group to match either the beginning of the string (`^`) or any whitespace characters (`[\\s\\S]`).\n",
      "* `(?:true|false|1|0)` uses a non-capturing group to match one of the specified Boolean values or numbers. The `|` character is used to separate the different possibilities.\n",
      "* `(?:\\d+|\\D)` uses another non-capturing group to match either a sequence of one or more digits (`\\d+`) or the empty string (`\\D`). The `\\d+` pattern matches one or more digits, while the `\\D` pattern matches any non-digit character.\n",
      "\n",
      "Both of these regexes should match both Boolean and numeric values in the provided context.\n"
     ]
    }
   ],
   "source": [
    "response = retrieval_chain.invoke({\"input\": \"generate generic regexes that matches boolean values and numeric values in the document\"})\n",
    "print(response[\"answer\"])"
   ]
  },
  {
   "cell_type": "code",
   "execution_count": 17,
   "id": "02af9285-f0b1-44f2-b31f-f3e02479ff12",
   "metadata": {},
   "outputs": [
    {
     "ename": "SyntaxError",
     "evalue": "invalid syntax (2021891032.py, line 1)",
     "output_type": "error",
     "traceback": [
      "\u001b[0;36m  Cell \u001b[0;32mIn[17], line 1\u001b[0;36m\u001b[0m\n\u001b[0;31m    import { ChatOllama } from \"@langchain/community/chat_models/ollama\";\u001b[0m\n\u001b[0m           ^\u001b[0m\n\u001b[0;31mSyntaxError\u001b[0m\u001b[0;31m:\u001b[0m invalid syntax\n"
     ]
    }
   ],
   "source": [
    "import { ChatOllama } from \"@langchain/community/chat_models/ollama\";\n",
    "\n",
    "const chatModel = new ChatOllama({\n",
    "  baseUrl: \"http://localhost:11434\", // Default value\n",
    "  model: \"mistral\",\n",
    "});"
   ]
  },
  {
   "cell_type": "code",
   "execution_count": null,
   "id": "47dc47d4-0117-43c4-968d-8d2bc441ff72",
   "metadata": {},
   "outputs": [],
   "source": []
  }
 ],
 "metadata": {
  "kernelspec": {
   "display_name": "Python 3 (ipykernel)",
   "language": "python",
   "name": "python3"
  },
  "language_info": {
   "codemirror_mode": {
    "name": "ipython",
    "version": 3
   },
   "file_extension": ".py",
   "mimetype": "text/x-python",
   "name": "python",
   "nbconvert_exporter": "python",
   "pygments_lexer": "ipython3",
   "version": "3.8.10"
  }
 },
 "nbformat": 4,
 "nbformat_minor": 5
}
